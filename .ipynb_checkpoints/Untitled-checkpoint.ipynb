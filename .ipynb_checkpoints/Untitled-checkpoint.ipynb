{
 "cells": [
  {
   "cell_type": "code",
   "execution_count": 12,
   "id": "349d8284-9057-4ccf-8eb4-6ecf99a73d37",
   "metadata": {},
   "outputs": [],
   "source": [
    "import numpy as np\n",
    "import pandas as pd"
   ]
  },
  {
   "cell_type": "code",
   "execution_count": 2,
   "id": "fe812752-9a04-4958-9f34-ea023f58bbc1",
   "metadata": {},
   "outputs": [],
   "source": [
    "np.array([1,2,3,4,5])\n",
    "x=['1','2','3']\n",
    "xf = np.array(x,'float')"
   ]
  },
  {
   "cell_type": "code",
   "execution_count": 10,
   "id": "ecf50ea7-db06-4e8b-9b72-f9b9289d60db",
   "metadata": {},
   "outputs": [],
   "source": [
    "x=[[0,1,2,3,4,5],[10,11,12,13,14,15],[20,21,22,23,24,25]]\n",
    "ax=np.array(x,float)"
   ]
  },
  {
   "cell_type": "code",
   "execution_count": 15,
   "id": "1bee30b0-171f-4b53-a605-ebd3fb8e3350",
   "metadata": {},
   "outputs": [
    {
     "name": "stdout",
     "output_type": "stream",
     "text": [
      "Collecting gmplot\n",
      "  Downloading gmplot-1.4.1-py3-none-any.whl.metadata (2.7 kB)\n",
      "Requirement already satisfied: requests in /opt/anaconda3/lib/python3.9/site-packages (from gmplot) (2.32.3)\n",
      "Requirement already satisfied: charset-normalizer<4,>=2 in /opt/anaconda3/lib/python3.9/site-packages (from requests->gmplot) (3.3.2)\n",
      "Requirement already satisfied: idna<4,>=2.5 in /opt/anaconda3/lib/python3.9/site-packages (from requests->gmplot) (3.7)\n",
      "Requirement already satisfied: urllib3<3,>=1.21.1 in /opt/anaconda3/lib/python3.9/site-packages (from requests->gmplot) (1.26.20)\n",
      "Requirement already satisfied: certifi>=2017.4.17 in /opt/anaconda3/lib/python3.9/site-packages (from requests->gmplot) (2025.4.26)\n",
      "Downloading gmplot-1.4.1-py3-none-any.whl (164 kB)\n",
      "Installing collected packages: gmplot\n",
      "Successfully installed gmplot-1.4.1\n"
     ]
    }
   ],
   "source": [
    "!pip install gmplot"
   ]
  },
  {
   "cell_type": "code",
   "execution_count": 16,
   "id": "f2b14351-4d85-4868-94c6-13badab5ca20",
   "metadata": {},
   "outputs": [],
   "source": [
    "import gmplot"
   ]
  },
  {
   "cell_type": "code",
   "execution_count": 18,
   "id": "0095fb45-030e-4d6d-b667-5eb7b0b08c82",
   "metadata": {},
   "outputs": [
    {
     "name": "stdout",
     "output_type": "stream",
     "text": [
      "Requirement already satisfied: pymysql in /opt/anaconda3/lib/python3.9/site-packages (1.1.1)\n"
     ]
    }
   ],
   "source": [
    "!pip install pymysql"
   ]
  },
  {
   "cell_type": "code",
   "execution_count": 19,
   "id": "84d8f352-d230-4198-af96-3d909e7e6919",
   "metadata": {},
   "outputs": [],
   "source": [
    "import pymysql"
   ]
  },
  {
   "cell_type": "code",
   "execution_count": null,
   "id": "a4400d07-3754-4453-92a0-4c772dec2ef9",
   "metadata": {},
   "outputs": [],
   "source": []
  }
 ],
 "metadata": {
  "kernelspec": {
   "display_name": "Python 3 (ipykernel)",
   "language": "python",
   "name": "python3"
  },
  "language_info": {
   "codemirror_mode": {
    "name": "ipython",
    "version": 3
   },
   "file_extension": ".py",
   "mimetype": "text/x-python",
   "name": "python",
   "nbconvert_exporter": "python",
   "pygments_lexer": "ipython3",
   "version": "3.9.16"
  }
 },
 "nbformat": 4,
 "nbformat_minor": 5
}
